{
 "cells": [
  {
   "cell_type": "markdown",
   "id": "4064b04a-4a06-416a-af1c-4ff243355e8c",
   "metadata": {},
   "source": [
    "### Importation of Necessary Libraries"
   ]
  },
  {
   "cell_type": "code",
   "execution_count": 5,
   "id": "2a12462f-1806-407d-8b82-54f075b24151",
   "metadata": {},
   "outputs": [],
   "source": [
    "import I2C_LCD_driver_library # imports the I2C LCD Driver to interact and control I2C LCD module\n",
    "\n",
    "from time import * # imports all functions from the \"time\" library\n",
    "\n",
    "import sounddevice as sd # imports sounddevice library for handling audio input/output\n",
    "\n",
    "from scipy.io.wavfile import write, read # imports write and read functions from scipy to save and read audio data respectively\n",
    "\n",
    "from gpiozero import Button # imports button class from GPIO library for handling GPIO pins connected to buttons\n",
    "\n",
    "import numpy as np # imports numpy library for handling the audio data as arrays\n",
    "\n",
    "from datetime import datetime # imports the datetime module to generate timestamps for file names \n",
    "\n",
    "import spitch_translator_api_integration as sp # imports custom \"spitch_translator\" library for speech-to-text-to-speech conversion"
   ]
  },
  {
   "cell_type": "markdown",
   "id": "ab3caa8f-a0fe-42f4-9a6f-1636aa82c311",
   "metadata": {},
   "source": [
    "### Initialization of Components\n",
    "This section initializes the LCD object `mylcd` for interacting with the I2C LCD and displays the messages \"Welcome!\" on the first row and \"Press to Record\" on the second row of the 16x2 LCD. It also configures GPIO pin 25 for the button and sets up audio recording parameters, including a sampling rate of 44.1 kHz (CD-quality audio), mono recording (single channel), and an empty list `AUDIO_DATA` to store recorded audio chunks.\r\n"
   ]
  },
  {
   "cell_type": "code",
   "execution_count": null,
   "id": "c125878a-3321-4506-b987-a2b1e3b6b9d0",
   "metadata": {},
   "outputs": [],
   "source": [
    "mylcd = I2C_LCD_driver_library.lcd() # initializes an object \"mylcd\" for interacting with the LCD\n",
    "\n",
    "# LCD INITIAL DISPLAY\n",
    "\n",
    "mylcd.lcd_display_string(\"Welcome!\", 1) # displays \"Welcome\" on first row of the 16 x 2 LCD\n",
    "mylcd.lcd_display_string(\"Press to Record\", 2) # displays \"Press to Record\" on the second row of the 16 x 2 LCD\n",
    "\n",
    "# PIN CONFIGURATION\n",
    "\n",
    "BUTTON_PIN = 25  # assigns GPIO pin 25 to the button\n",
    "\n",
    "# AUDIO SETTINGS\n",
    "\n",
    "SAMPLE_RATE = 44100  # sets the sampling rate of the audio record to 44.1 kHz (CD-Quality Audio)\n",
    "CHANNELS = 1  # sets audio recording to mono recording (single channel)\n",
    "AUDIO_DATA = []  # initializes an empty list to store recorded audio chunks"
   ]
  },
  {
   "cell_type": "markdown",
   "id": "c760e86c-6fab-4ccc-99cc-ac1e7e93dedc",
   "metadata": {},
   "source": [
    "### Definition of Necessary Functions\r\n"
   ]
  },
  {
   "cell_type": "markdown",
   "id": "8abed90a-b6c6-4287-acb6-74ebf7d115f4",
   "metadata": {},
   "source": [
    "##### 1. `generate_filename`\n",
    "This section defines a function **generate_filename** that creates unique filenames by combining a base name (defaulting to \"hausa_audio\") with the current timestamp formatted as **YYYYMMDD_HHMMSS**. The resulting filename is returned with a **.wav** extension. A variable **OUTPUT_FILE** is then initialized to store the generated filename."
   ]
  },
  {
   "cell_type": "code",
   "execution_count": null,
   "id": "e9930959-4f86-4aab-8c93-bd4a0f974715",
   "metadata": {},
   "outputs": [],
   "source": [
    "# Function for Generating Filenames\n",
    "\n",
    "def generate_filename(base_name = \"hausa_audio\"):\n",
    "    timestamp = datetime.now().strftime(\"%Y%m%d_%H%M%S\") # captures the current date and time in year-month-day_ hour-minute-second format\n",
    "    return f\"{base_name}_{timestamp}.wav\" # returms a filename combining base name and timestamp\n",
    "\n",
    "OUTPUT_FILE = generate_filename() # variable for generated filenames"
   ]
  },
  {
   "cell_type": "markdown",
   "id": "ab9bbc90-1c08-4c5d-8d17-83a500a5eff1",
   "metadata": {},
   "source": [
    "##### 2. `record_audio_start`\n",
    "The **record_audio_start** function initiates the process of audio recording. It declares **AUDIO_DATA** as a global variable to ensure access within the function and clears any previously stored data. A message prompts the user that recording has started. Finally, the audio input stream (**stream**) begins capturing audio continuously in chunks.\r\n"
   ]
  },
  {
   "cell_type": "code",
   "execution_count": null,
   "id": "ea866749-14f6-4321-8f9a-902b29cc7e38",
   "metadata": {},
   "outputs": [],
   "source": [
    "# Function to Start Recording\n",
    "\n",
    "def record_audio_start():\n",
    "    \"\"\"Start recording audio.\"\"\"\n",
    "    \n",
    "    global AUDIO_DATA # declares \"AUDIO_DATA\" as a global variable to access it inside the function\n",
    "    print(\"Recording started. Speak into the microphone...\")\n",
    "        \n",
    "    # STARTS RECORDING CONTINUOUSLY IN CHUNKS\n",
    "    \n",
    "    AUDIO_DATA = []  # clears previous data\n",
    "    stream.start() # starts the audio input stream to capture audio"
   ]
  },
  {
   "cell_type": "markdown",
   "id": "004f20df-b88a-4d6e-a2ea-0d9d1f6ceaa6",
   "metadata": {},
   "source": [
    "##### 3. `record_audio_stop`\n",
    "The function halts the audio recording process and saves the recorded data to a file. It uses **AUDIO_DATA** as a global variable to access the recorded chunks and stops the audio input stream with **stream.stop()**. The audio chunks are combined into a single NumPy array using **np.concatenate** and saved as a **.wav** file with the specified sampling rate. The file is stored at the path specified by **OUTPUT_FILE**, which is also returned by the function.\r\n"
   ]
  },
  {
   "cell_type": "code",
   "execution_count": null,
   "id": "a44fc1ab-55e4-494b-880b-307be865f48a",
   "metadata": {},
   "outputs": [],
   "source": [
    "# Function to stop recording\n",
    "\n",
    "def record_audio_stop():\n",
    "    \"\"\"Stop recording audio and save to a file.\"\"\"\n",
    "    \n",
    "    global AUDIO_DATA # declares \"AUDIO_DATA\" as a global variable to access it inside the function\n",
    "    print(\"Recording stopped.\")\n",
    "        \n",
    "    stream.stop() # stops the audio input stream\n",
    "    final_audio = np.concatenate(AUDIO_DATA, axis=0) # combines all audio chunks into a single Numpy arrays\n",
    "    write(OUTPUT_FILE, SAMPLE_RATE, final_audio) # saves the recorded audio to a .wav file\n",
    "    print(f\"Recording saved to '{OUTPUT_FILE}'.\") \n",
    "    \n",
    "    \n",
    "    return OUTPUT_FILE # returns the path to the saved audio file"
   ]
  },
  {
   "cell_type": "markdown",
   "id": "7e620773-f212-48fe-a75c-1efcb46555e2",
   "metadata": {},
   "source": [
    "##### 4. `playback_audio`\n",
    "The **playback_audio** function handles the playback of a **.wav** audio file. It reads the file using the **read** function, extracting the sample rate (**rate**) and audio data (**data**). The audio is then played using the **sd.play** function from the sounddevice library, and the function waits for the playback to finish with **sd.wait()**.\r\n"
   ]
  },
  {
   "cell_type": "code",
   "execution_count": null,
   "id": "4a2d3288-2901-424a-acea-7a27475648f2",
   "metadata": {},
   "outputs": [],
   "source": [
    "# Function to Playback Audio\n",
    "\n",
    "def playback_audio(file_path):\n",
    "    \"\"\"Play a .WAV file.\"\"\"\n",
    "    \n",
    "    rate, data = read(file_path) # reads the .wav file into \"rate\" and \"data\" variables (i.e for sample rate and audio data)\n",
    "    sd.play(data, samplerate=rate) # plays the audio using sounddevice library\n",
    "    sd.wait()  # waits until the saudio playback finishes"
   ]
  },
  {
   "cell_type": "markdown",
   "id": "9bd61b05-6faa-45e2-8ac1-cb988624a5e1",
   "metadata": {},
   "source": [
    "##### 5. `button_pressed`\n",
    "When the button is pressed, the **button_pressed** function is executed. It clears the LCD screen with **mylcd.lcd_clear()**, shows the message **Recording...** on the first row of the 16x2 LCD, and then triggers the **record_audio_start** function to start the audio recording process.\n"
   ]
  },
  {
   "cell_type": "code",
   "execution_count": null,
   "id": "bebad0f4-e6e7-4e34-aef8-b90a36038441",
   "metadata": {},
   "outputs": [],
   "source": [
    "# Function for Button Press\n",
    "\n",
    "def button_pressed():\n",
    "    \"\"\"Callback function when button is pressed.\"\"\"\n",
    "    \n",
    "    mylcd.lcd_clear() # clears the LCD screen\n",
    "    mylcd.lcd_display_string(\"Recording...\", 1) # displays \"Recording\" on first row of the 16 x 2 LCD        \n",
    "    record_audio_start() # calls function to begin recording"
   ]
  },
  {
   "cell_type": "markdown",
   "id": "8656307e-b109-4f57-ba7a-8dd857eee1b5",
   "metadata": {},
   "source": [
    "##### 6. `button_released`\n",
    "The **button_released** function is triggered when the button is released. It starts by clearing the LCD screen and displaying \"Record Stop...\" on the first row. The function then calls **record_audio_stop** to stop the recording and stores the audio file path. After that, it clears the screen again and shows \"Transcribing...\" while transcribing the recorded audio from Hausa to English using **sp.speech_to_text**. The transcribed text is then converted into synthesized English audio with **sp.text_to_speech**, and the audio is played back. \n",
    "\n",
    "Following this, the transcribed text is displayed on the LCD screen, updating the text in 16-character segments, with a 0.35-second pause between updates. Finally, the screen is cleared and \"Thank You!\" is displayed, before clearing the screen one last time.\n"
   ]
  },
  {
   "cell_type": "code",
   "execution_count": null,
   "id": "4344f09a-ccc3-46ff-b6ae-fe9cd12a371b",
   "metadata": {},
   "outputs": [],
   "source": [
    "# Function for Button Release\n",
    "\n",
    "def button_released():\n",
    "    \"\"\"Callback function when button is released.\"\"\"\n",
    "    \n",
    "    mylcd.lcd_clear() # clears the LCD screen\n",
    "    mylcd.lcd_display_string(\"Record Stop...\", 1) # displays \"Record Stop\" on first row of the 16 x 2 LCD        \n",
    "    audio_record = record_audio_stop() # calls \"record_audio_stop\" function to stop recording and stores the audio file path\n",
    "    mylcd.lcd_clear() # clears the LCD screen\n",
    "    mylcd.lcd_display_string(\"Transcribing...\", 1) # displays \"Transcribing\" on first row of the 16 x 2 LCD\n",
    "    final_speech = sp.speech_to_text(audio_record, \"ha\", \"en\" ) # transcribes the recorded audio from Hausa - ha to English - en\n",
    "    aud_path = generate_filename(\"English_audio\") # generates a filename for the synthesized audio\n",
    "    final_audio = sp.text_to_speech(final_speech, 'en', 'lucy', aud_path) # converts the transcribed text into English audio\n",
    "    print(\"Second Stage Done\")\n",
    "    playback_audio(aud_path)  # plays the synthesized audio\n",
    "    \n",
    "    \n",
    "    mylcd.lcd_clear() # clears the LCD screen\n",
    "    text_pad = \"\" * 16 # creates a string of 16 empty spaces\n",
    "    text = final_speech # stores the transcribed speech in the \"text\" variable\n",
    "    text = text_pad + text \n",
    "    \n",
    "    for i in range (0, len(text)):\n",
    "        lcd_text = text[i:(i+16)] # extracts slice of text starting at the current index \"i\" and ending at \"i + 16\"\n",
    "        mylcd.lcd_display_string(lcd_text, 1) # displays the extracted text on the first row of the LCD\n",
    "        sleep(0.35) # pauses the program for 0.35 seconds before updating the LCD screen\n",
    "        mylcd.lcd_display_string(text_pad, 1) # clears the current row by displaying the empty \"text_pad\" string.\n",
    "    \n",
    "    mylcd.lcd_clear() # clears the LCD screen\n",
    "    mylcd.lcd_display_string(\"Thank You!\", 1) # displays \"Thank You!\" on first row of the 16 x 2 LCD\n",
    "    mylcd.lcd_clear() # clears the LCD screen"
   ]
  },
  {
   "cell_type": "markdown",
   "id": "ab8ac5ba-2177-48b6-880f-5517dd1124ea",
   "metadata": {},
   "source": [
    "This part of the program initializes the GPIO button and assigns it to the specified pin. When the button is pressed, the `button_pressed` function is triggered, and when released, the `button_released` function is called. The button is set to listen for these events and execute the corresponding actions.\n",
    "\n",
    "Additionally, an audio input stream is configured using the `sounddevice` library. The stream is set to record audio with the specified sample rate and mono channel, and a callback function is used to capture and store the audio data as it arrives.\n",
    "\n",
    "The program then enters a loop, waiting for button press events while continuously running. It will keep running until the user stops it manually using a keyboard interrupt. Once terminated, the audio stream is stopped, and the program performs cleanup to release resources.\n"
   ]
  },
  {
   "cell_type": "code",
   "execution_count": null,
   "id": "46541624-ba51-4803-8b70-4884480de17c",
   "metadata": {},
   "outputs": [],
   "source": [
    "# INITIALIZE THE GPIO BUTTON\n",
    "button = Button(BUTTON_PIN) # creates a button object connected to the specific GPIO pin\n",
    "button.when_pressed = button_pressed # links the \"button_pressed\" callback to the button press event\n",
    "button.when_released = button_released # links the \"button_released\" callback to the button release event\n",
    "\n",
    "# CREATE A SOUNDDEVICE STREAM\n",
    "stream = sd.InputStream(\n",
    "    samplerate=SAMPLE_RATE, \n",
    "    channels=CHANNELS,\n",
    "    dtype='int16',\n",
    "    callback=lambda indata, frames, time, status: AUDIO_DATA.append(indata.copy())\n",
    ") # configures an audio input stream with a sample rate, mono channel, and a callback to save audio data\n",
    "\n",
    "try:\n",
    "    print(\"Program ready. Press and hold the button to record audio.\")\n",
    "    \n",
    "    while True:\n",
    "        # keep the script running and waiting for button press events\n",
    "        time.sleep(0.1)\n",
    "        \n",
    "except KeyboardInterrupt:\n",
    "    print(\"Program terminated by user.\")\n",
    "    \n",
    "finally:\n",
    "    # stop the stream and cleanup\n",
    "    if stream.active:\n",
    "        stream.stop()\n",
    "    print(\"Program terminated.\")"
   ]
  },
  {
   "cell_type": "code",
   "execution_count": 1,
   "id": "d04f399f-7b96-4cd5-a989-0ec719dd6122",
   "metadata": {},
   "outputs": [
    {
     "name": "stdout",
     "output_type": "stream",
     "text": [
      "© \n",
      "Rizama Victor Samuel\n",
      "Omole Ifeoluwa\n",
      "Ahmad Abubakar Sadiq\n",
      "Yero Muhammad Bunuyaminu\n",
      "Ahmad Abdulaziz Ibrahim\n",
      "Maidodo Shetima\n",
      "Anas Bawa\n",
      "\n"
     ]
    }
   ],
   "source": [
    "print(f\"\"\"© \n",
    "Rizama Victor Samuel\n",
    "Omole Ifeoluwa\n",
    "Ahmad Abubakar Sadiq\n",
    "Yero Muhammad Bunuyaminu\n",
    "Ahmad Abdulaziz Ibrahim\n",
    "\"\"\")"
   ]
  }
 ],
 "metadata": {
  "kernelspec": {
   "display_name": "Python 3 (ipykernel)",
   "language": "python",
   "name": "python3"
  },
  "language_info": {
   "codemirror_mode": {
    "name": "ipython",
    "version": 3
   },
   "file_extension": ".py",
   "mimetype": "text/x-python",
   "name": "python",
   "nbconvert_exporter": "python",
   "pygments_lexer": "ipython3",
   "version": "3.12.4"
  }
 },
 "nbformat": 4,
 "nbformat_minor": 5
}
